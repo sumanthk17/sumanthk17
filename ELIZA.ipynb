{
  "nbformat": 4,
  "nbformat_minor": 0,
  "metadata": {
    "colab": {
      "name": "ELIZA.ipynb",
      "provenance": [],
      "collapsed_sections": []
    },
    "kernelspec": {
      "name": "python3",
      "display_name": "Python 3"
    }
  },
  "cells": [
    {
      "cell_type": "code",
      "metadata": {
        "id": "P12g_rL9KZh6",
        "colab": {
          "base_uri": "https://localhost:8080/",
          "height": 119
        },
        "outputId": "690e2ed1-1750-4376-d0fb-871c622859de"
      },
      "source": [
        "import re\n",
        "import nltk\n",
        "from nltk.tokenize import word_tokenize\n",
        "import time\n",
        "import threading\n",
        "import nltk\n",
        "nltk.download('punkt')\n",
        "import random\n",
        "import os\n",
        "from nltk.corpus import words\n",
        "nltk.download('words')\n",
        "from nltk.corpus import wordnet\n",
        "nltk.download('wordnet')\n",
        "from nltk.tokenize import RegexpTokenizer\n",
        "import datetime"
      ],
      "execution_count": null,
      "outputs": [
        {
          "output_type": "stream",
          "text": [
            "[nltk_data] Downloading package punkt to /root/nltk_data...\n",
            "[nltk_data]   Package punkt is already up-to-date!\n",
            "[nltk_data] Downloading package words to /root/nltk_data...\n",
            "[nltk_data]   Package words is already up-to-date!\n",
            "[nltk_data] Downloading package wordnet to /root/nltk_data...\n",
            "[nltk_data]   Package wordnet is already up-to-date!\n"
          ],
          "name": "stdout"
        }
      ]
    },
    {
      "cell_type": "code",
      "metadata": {
        "id": "Ut3dduoBNaKd"
      },
      "source": [
        "responses = {\n",
        "             r'(.*)?(\\s)?(good|great|fine)':['Great! How can I help you today?','Good, what is it that I can do to make you feel better?'],\n",
        "             r'(.*)?(\\s)?(sad|unhappy|worried|disturbed)':['Tell me why are you feeling %s?'],\n",
        "             r'(.*) help':['Tell me how I can help you?', 'I am happy to help you'],\n",
        "             r'i cannot (.*)':['Do you really cannot %s'],\n",
        "             r'yes(.*)?(\\s)?':['You seem to be knowing an answer.', 'Okay,can you please elaborate a bit?'],\n",
        "             r'(.*)?(\\s)?family(\\s)?(.*)?':['Tell me more about your family.','What is your relationship with your family is like?',\n",
        "                                  'How do you feel about your family?','Family relations are very important in ones life.'],\n",
        "             r'(.*)?(\\s)?sorry(\\s)?(.*)?':['Please do not apologize to me.','Why did you feel like saying sorry?'],\n",
        "             r'(.*)?(\\s)?mother(\\s)?(.*)?':['Tell me more about your mother.','What is your relationship with your mother is like?',\n",
        "                                 'How do you feel about your mother?','Family relations are very important in ones life.'],\n",
        "             r'(.*)?(\\s)?father(\\s)?(.*)?':['Tell me more about your father.','What is your relationship with your father is like?',\n",
        "                                 'How do you feel about your father?','Family relations are very important in ones life.'],\n",
        "             r'no(.*)?(\\s)?':['May I know the reason?', 'Okay,can you please elaborate a bit?'],\n",
        "             r'i need (.*)':['Could you please explain why you need %s?', 'Why do you need %s?', 'Are you sure that you need %s?'],\n",
        "             r'i think (.*)':['Can you explain why do you think so?', 'Do you really think so?', 'Why are you not sure about it?'],\n",
        "             r'because (.*)':['Do you think that is the only reason?', 'What other reasons came up to your mind?'],\n",
        "             r'i like to (.*)':['Why do you like to %s?', 'Do you really like to %s?', 'Can you tell me more about why you like to %s?'],\n",
        "             r'(.*)?(\\s)?sleep(\\s)?(.*)':['Can you tell me more about your sleeping pattern please','How many hours do you sleep?',\n",
        "                                          'How often do you wake-up in sleep'],\n",
        "             r'(.*)?(\\s)?murder(\\s)?(.*)':['Why do you have such a feeling?','That is not a solution to any problem', 'Please calm your mind'],\n",
        "             r'(.*)?(\\s)?hurt(\\s)?(.*)':['Please calm your mind','Think of someone that you love','Stay positive'],\n",
        "             r'(.*)?(\\s)?eat(\\s)?(.*)':['How many meals do you have in a day', 'What is your favourite food', 'Do you drink water after every meal'],\n",
        "             r'(.*)?(\\s)?angry(\\s)?(.*)':['Please calm your mind','Take a deep breath'],\n",
        "             r'(.*)?(\\s)?suicide(\\s)?(.*)':['Why did you feel like commiting?', 'I don’t think that is the only option you have','Do you want to explain further?']\n",
        "\n",
        "             }"
      ],
      "execution_count": null,
      "outputs": []
    },
    {
      "cell_type": "code",
      "metadata": {
        "id": "lL0ZIzk_OQlJ",
        "colab": {
          "base_uri": "https://localhost:8080/",
          "height": 70
        },
        "outputId": "594c8d8f-f46a-4c92-9744-e1bed91ef561"
      },
      "source": [
        "import time\n",
        "x = datetime.datetime.now()\n",
        "hour = x.strftime(\"%H\")\n",
        "hours = int(hour) - 4\n",
        "if (hours>=0 and hours<12):\n",
        "  print('Good morning, I am ELIZA, your chatbot assistant.')\n",
        "elif (hours>=12 and hours<16):\n",
        "  print('Good afternoon, I am ELIZA, your chatbot assistant.')\n",
        "elif (hours>=16 and hours<23):\n",
        "  print('Good evening, I am ELIZA, your chatbot assistant.')\n",
        "print('[Eliza] Hello, Please type in your name')\n",
        "user = input('[user] ')\n",
        "tokens = nltk.word_tokenize(user)\n",
        "name = tokens[-1]\n",
        "print('\\n[Eliza] Hello %s, how are you today?' %name)\n",
        "exit = ['quit','bye','exit','good bye']\n",
        "sal = ['hi','hello','hola']\n",
        "empty = ['Can you please elaborate?', 'Okay,can you please elaborate a bit?','Interesting, please tell me more','Oh! I see. Please continue']\n",
        "quit_responses = ['Thank you for talking with me ','It has been a pleasure talking to you ','Bye. Please do not hesitate to come back again ',\n",
        "                  'Good bye. Have a nice day ']\n",
        "bad = ['fuck','bitch','fuck off','shit']\n",
        "list_empty = []\n",
        "for i in responses.keys():\n",
        "  list_empty.append(i)\n",
        "def auto_stop():\n",
        "  print(\"\\tAre you still there? If yes please enter an input\")\n",
        "while True:\n",
        "  t = threading.Timer(20,auto_stop)\n",
        "  t.start()\n",
        "  inp = input('[%s] ' %name)\n",
        "  t.cancel()\n",
        "  chat = inp.lower()\n",
        "  tokenizer = RegexpTokenizer(r'\\w+')\n",
        "  chat_tokens = tokenizer.tokenize(chat)\n",
        "  flag = 0\n",
        "  length = len(list_empty)\n",
        "  for i in list_empty:\n",
        "   if not re.search(i,str(chat)):\n",
        "    flag += 1\n",
        "  flags = 0\n",
        "  if chat in bad:\n",
        "    print('\\n[Eliza] Please use a proper language')\n",
        "  for chats in chat_tokens:\n",
        "    if chats not in words.words() and chat not in bad:\n",
        "      not_words = []\n",
        "      flags+=1\n",
        "      not_words.append(chats)\n",
        "  if flags>0:\n",
        "    unaware = \"\"\n",
        "    for i in not_words:\n",
        "      unaware += i\n",
        "      unaware += ', '\n",
        "    print('\\n[Eliza] I am sorry, I am unaware of the words '+unaware)\n",
        "  if re.search('what is (.*)',str(chat)):\n",
        "    syns = wordnet.synsets(chat_tokens[-1])\n",
        "    print('\\n[Eliza] '+syns[0].definition())\n",
        "  if chat in exit:\n",
        "    quitting = random.choice(quit_responses)\n",
        "    print('\\n[Eliza] '+quitting+ '%s.' %name)\n",
        "    break  \n",
        "  if chat in sal:\n",
        "    print('\\n[Eliza] Hello, how may I help you today %s?' %name)\n",
        "  flagged = 0\n",
        "  if re.search('[^a-zA-Z0-9\\s]',chat):\n",
        "    flagged += 1\n",
        "  if flagged>0:\n",
        "    print('\\n[Eliza] Please enter a valid input with only alphanumeric characters')\n",
        "  if flag>length-1 and not re.search('what is (.*)',str(chat)) and flags<1 and chat not in sal and chat not in bad and flagged<1:\n",
        "    value = random.choice(empty)\n",
        "    print(\"\\n[Eliza] \"+value)\n",
        "  for keys,values in responses.items():\n",
        "    temp = re.search(keys,str(chat))\n",
        "    if temp:\n",
        "      value = random.choice(values)\n",
        "      replace = chat_tokens[-1]\n",
        "      if '%s' in value: \n",
        "        value = re.sub('%s',replace,value)         \n",
        "        print(\"\\n[Eliza] \"+value)\n",
        "      else:\n",
        "        print(\"\\n[Eliza] \"+value)"
      ],
      "execution_count": null,
      "outputs": [
        {
          "output_type": "stream",
          "text": [
            "Good evening, I am ELIZA, your chatbot assistant.\n",
            "[Eliza] Hello, Please type in your name\n"
          ],
          "name": "stdout"
        }
      ]
    }
  ]
}